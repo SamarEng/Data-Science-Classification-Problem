{
 "cells": [
  {
   "cell_type": "code",
   "execution_count": 1,
   "id": "3d56b09c-f7cb-48dd-bc1c-121642f1f94c",
   "metadata": {},
   "outputs": [],
   "source": [
    "import pandas as pd"
   ]
  },
  {
   "cell_type": "code",
   "execution_count": 2,
   "id": "fa21d64d-65e5-4484-bb11-039c10fae28c",
   "metadata": {},
   "outputs": [],
   "source": [
    "import numpy as np"
   ]
  },
  {
   "cell_type": "code",
   "execution_count": 3,
   "id": "9b53e434-68df-4f85-9e43-762889966181",
   "metadata": {},
   "outputs": [],
   "source": [
    "import matplotlib.pyplot as plt"
   ]
  },
  {
   "cell_type": "code",
   "execution_count": 4,
   "id": "50efc34a-5095-4aca-9784-c74287ac8062",
   "metadata": {},
   "outputs": [],
   "source": [
    "import seaborn as sns"
   ]
  },
  {
   "cell_type": "code",
   "execution_count": 5,
   "id": "dc37b7be-7571-4090-8c11-1d8d81799632",
   "metadata": {},
   "outputs": [],
   "source": [
    "from sklearn import preprocessing"
   ]
  },
  {
   "cell_type": "code",
   "execution_count": 6,
   "id": "3a32b3d0-91b5-40dd-9451-aa3cbe460300",
   "metadata": {},
   "outputs": [],
   "source": [
    "from sklearn.model_selection import train_test_split"
   ]
  },
  {
   "cell_type": "code",
   "execution_count": 7,
   "id": "9d6cc794-017c-4eb7-8e1c-ef5fa2ffbe51",
   "metadata": {},
   "outputs": [],
   "source": [
    "from sklearn.model_selection import GridSearchCV"
   ]
  },
  {
   "cell_type": "code",
   "execution_count": 8,
   "id": "c6d96da0-3d98-4a9a-9fb7-1a4968cf2208",
   "metadata": {},
   "outputs": [],
   "source": [
    "from sklearn.linear_model import LogisticRegression"
   ]
  },
  {
   "cell_type": "code",
   "execution_count": 9,
   "id": "98261ace-61aa-4726-94ed-3ce3d903ba25",
   "metadata": {},
   "outputs": [],
   "source": [
    "from sklearn.svm import SVC"
   ]
  },
  {
   "cell_type": "code",
   "execution_count": 10,
   "id": "f2284888-3693-4008-8912-cfefe6046730",
   "metadata": {},
   "outputs": [],
   "source": [
    "from sklearn.tree import DecisionTreeClassifier"
   ]
  },
  {
   "cell_type": "code",
   "execution_count": 11,
   "id": "f4305fea-39c6-4b0f-8ff8-655ed4fcb82f",
   "metadata": {},
   "outputs": [],
   "source": [
    "from sklearn.neighbors import KNeighborsClassifier"
   ]
  },
  {
   "cell_type": "code",
   "execution_count": 60,
   "id": "74124a92-1bf8-4200-bf91-0e763a01e7e2",
   "metadata": {},
   "outputs": [],
   "source": [
    "df=pd.read_csv('dataset_falcon9.csv')"
   ]
  },
  {
   "cell_type": "code",
   "execution_count": 61,
   "id": "b01d92c1-ed7a-4b92-814d-98ea6f56ac8e",
   "metadata": {},
   "outputs": [],
   "source": [
    "df.drop(['BoosterVersion','Date','Longitude','Latitude'],axis=1,inplace = True)"
   ]
  },
  {
   "cell_type": "code",
   "execution_count": 62,
   "id": "1eba0c35-b8eb-4057-b697-4f8212422e90",
   "metadata": {},
   "outputs": [
    {
     "data": {
      "text/plain": [
       "Index(['FlightNumber', 'PayloadMass', 'Orbit', 'LaunchSite', 'Outcome',\n",
       "       'Flights', 'GridFins', 'Reused', 'Legs', 'LandingPad', 'Block',\n",
       "       'ReusedCount', 'Serial', 'Class'],\n",
       "      dtype='object')"
      ]
     },
     "execution_count": 62,
     "metadata": {},
     "output_type": "execute_result"
    }
   ],
   "source": [
    "df.columns"
   ]
  },
  {
   "cell_type": "code",
   "execution_count": 63,
   "id": "1e22e648-6962-4ab1-82db-251fbd923e45",
   "metadata": {},
   "outputs": [
    {
     "data": {
      "text/plain": [
       "(90, 14)"
      ]
     },
     "execution_count": 63,
     "metadata": {},
     "output_type": "execute_result"
    }
   ],
   "source": [
    "df.shape"
   ]
  },
  {
   "cell_type": "code",
   "execution_count": 64,
   "id": "a3f6a823-a99c-4bfc-b4c8-45bf888051d8",
   "metadata": {},
   "outputs": [
    {
     "name": "stdout",
     "output_type": "stream",
     "text": [
      "<class 'pandas.core.frame.DataFrame'>\n",
      "RangeIndex: 90 entries, 0 to 89\n",
      "Data columns (total 14 columns):\n",
      " #   Column        Non-Null Count  Dtype  \n",
      "---  ------        --------------  -----  \n",
      " 0   FlightNumber  90 non-null     int64  \n",
      " 1   PayloadMass   90 non-null     float64\n",
      " 2   Orbit         90 non-null     object \n",
      " 3   LaunchSite    90 non-null     object \n",
      " 4   Outcome       90 non-null     object \n",
      " 5   Flights       90 non-null     int64  \n",
      " 6   GridFins      90 non-null     bool   \n",
      " 7   Reused        90 non-null     bool   \n",
      " 8   Legs          90 non-null     bool   \n",
      " 9   LandingPad    64 non-null     object \n",
      " 10  Block         90 non-null     float64\n",
      " 11  ReusedCount   90 non-null     int64  \n",
      " 12  Serial        90 non-null     object \n",
      " 13  Class         90 non-null     int64  \n",
      "dtypes: bool(3), float64(2), int64(4), object(5)\n",
      "memory usage: 8.1+ KB\n"
     ]
    }
   ],
   "source": [
    "df.info()"
   ]
  },
  {
   "cell_type": "code",
   "execution_count": 65,
   "id": "61a0f1e9-ae2d-43e5-a03a-ab8961da5023",
   "metadata": {},
   "outputs": [],
   "source": [
    "df[['GridFins','Reused','Legs']]=df[['GridFins','Reused','Legs']].astype(int)"
   ]
  },
  {
   "cell_type": "code",
   "execution_count": 66,
   "id": "64fb767e-bd05-4a25-a560-efd9b988301a",
   "metadata": {},
   "outputs": [
    {
     "name": "stdout",
     "output_type": "stream",
     "text": [
      "<class 'pandas.core.frame.DataFrame'>\n",
      "RangeIndex: 90 entries, 0 to 89\n",
      "Data columns (total 14 columns):\n",
      " #   Column        Non-Null Count  Dtype  \n",
      "---  ------        --------------  -----  \n",
      " 0   FlightNumber  90 non-null     int64  \n",
      " 1   PayloadMass   90 non-null     float64\n",
      " 2   Orbit         90 non-null     object \n",
      " 3   LaunchSite    90 non-null     object \n",
      " 4   Outcome       90 non-null     object \n",
      " 5   Flights       90 non-null     int64  \n",
      " 6   GridFins      90 non-null     int32  \n",
      " 7   Reused        90 non-null     int32  \n",
      " 8   Legs          90 non-null     int32  \n",
      " 9   LandingPad    64 non-null     object \n",
      " 10  Block         90 non-null     float64\n",
      " 11  ReusedCount   90 non-null     int64  \n",
      " 12  Serial        90 non-null     object \n",
      " 13  Class         90 non-null     int64  \n",
      "dtypes: float64(2), int32(3), int64(4), object(5)\n",
      "memory usage: 8.9+ KB\n"
     ]
    }
   ],
   "source": [
    "df.info()"
   ]
  },
  {
   "cell_type": "code",
   "execution_count": 67,
   "id": "f6f9159b-2b54-44e1-bca5-9a9fc6cf44cf",
   "metadata": {},
   "outputs": [
    {
     "data": {
      "text/plain": [
       "LandingPad\n",
       "5e9e3032383ecb6bb234e7ca    35\n",
       "5e9e3032383ecb267a34e7c7    13\n",
       "5e9e3033383ecbb9e534e7cc    12\n",
       "5e9e3032383ecb761634e7cb     2\n",
       "5e9e3032383ecb554034e7c9     2\n",
       "Name: count, dtype: int64"
      ]
     },
     "execution_count": 67,
     "metadata": {},
     "output_type": "execute_result"
    }
   ],
   "source": [
    "df['LandingPad'].value_counts()"
   ]
  },
  {
   "cell_type": "code",
   "execution_count": 68,
   "id": "82724bb3-462f-4206-ae22-2bb3387a4963",
   "metadata": {},
   "outputs": [],
   "source": [
    "df['LandingPad']=df['LandingPad'].replace(np.nan,'WeDontKnow')"
   ]
  },
  {
   "cell_type": "code",
   "execution_count": 69,
   "id": "2728ad98-eff5-4677-bbbd-b18c67073d03",
   "metadata": {},
   "outputs": [
    {
     "name": "stdout",
     "output_type": "stream",
     "text": [
      "<class 'pandas.core.frame.DataFrame'>\n",
      "RangeIndex: 90 entries, 0 to 89\n",
      "Data columns (total 14 columns):\n",
      " #   Column        Non-Null Count  Dtype  \n",
      "---  ------        --------------  -----  \n",
      " 0   FlightNumber  90 non-null     int64  \n",
      " 1   PayloadMass   90 non-null     float64\n",
      " 2   Orbit         90 non-null     object \n",
      " 3   LaunchSite    90 non-null     object \n",
      " 4   Outcome       90 non-null     object \n",
      " 5   Flights       90 non-null     int64  \n",
      " 6   GridFins      90 non-null     int32  \n",
      " 7   Reused        90 non-null     int32  \n",
      " 8   Legs          90 non-null     int32  \n",
      " 9   LandingPad    90 non-null     object \n",
      " 10  Block         90 non-null     float64\n",
      " 11  ReusedCount   90 non-null     int64  \n",
      " 12  Serial        90 non-null     object \n",
      " 13  Class         90 non-null     int64  \n",
      "dtypes: float64(2), int32(3), int64(4), object(5)\n",
      "memory usage: 8.9+ KB\n"
     ]
    }
   ],
   "source": [
    "df.info()"
   ]
  },
  {
   "cell_type": "code",
   "execution_count": 70,
   "id": "f093053c-5577-4022-b9bc-967d919f2566",
   "metadata": {},
   "outputs": [
    {
     "data": {
      "text/plain": [
       "LandingPad\n",
       "5e9e3032383ecb6bb234e7ca    35\n",
       "WeDontKnow                  26\n",
       "5e9e3032383ecb267a34e7c7    13\n",
       "5e9e3033383ecbb9e534e7cc    12\n",
       "5e9e3032383ecb761634e7cb     2\n",
       "5e9e3032383ecb554034e7c9     2\n",
       "Name: count, dtype: int64"
      ]
     },
     "execution_count": 70,
     "metadata": {},
     "output_type": "execute_result"
    }
   ],
   "source": [
    "df['LandingPad'].value_counts()"
   ]
  },
  {
   "cell_type": "code",
   "execution_count": 71,
   "id": "95fd838c-0b1c-4613-9555-99b0ad039098",
   "metadata": {},
   "outputs": [
    {
     "data": {
      "text/plain": [
       "FlightNumber    0\n",
       "PayloadMass     0\n",
       "Orbit           0\n",
       "LaunchSite      0\n",
       "Outcome         0\n",
       "Flights         0\n",
       "GridFins        0\n",
       "Reused          0\n",
       "Legs            0\n",
       "LandingPad      0\n",
       "Block           0\n",
       "ReusedCount     0\n",
       "Serial          0\n",
       "Class           0\n",
       "dtype: int64"
      ]
     },
     "execution_count": 71,
     "metadata": {},
     "output_type": "execute_result"
    }
   ],
   "source": [
    "df.isnull().sum()"
   ]
  },
  {
   "cell_type": "code",
   "execution_count": 72,
   "id": "00da3821-3104-4304-b118-f2e8fbde7d04",
   "metadata": {},
   "outputs": [],
   "source": [
    "df_dummy=pd.get_dummies(df[['Orbit','LaunchSite','Outcome','LandingPad','Serial']])"
   ]
  },
  {
   "cell_type": "code",
   "execution_count": 73,
   "id": "b731b9cd-c612-4c64-b20c-2d073c0b0b99",
   "metadata": {},
   "outputs": [
    {
     "name": "stdout",
     "output_type": "stream",
     "text": [
      "<class 'pandas.core.frame.DataFrame'>\n",
      "RangeIndex: 90 entries, 0 to 89\n",
      "Data columns (total 81 columns):\n",
      " #   Column                               Non-Null Count  Dtype\n",
      "---  ------                               --------------  -----\n",
      " 0   Orbit_ES-L1                          90 non-null     bool \n",
      " 1   Orbit_GEO                            90 non-null     bool \n",
      " 2   Orbit_GTO                            90 non-null     bool \n",
      " 3   Orbit_HEO                            90 non-null     bool \n",
      " 4   Orbit_ISS                            90 non-null     bool \n",
      " 5   Orbit_LEO                            90 non-null     bool \n",
      " 6   Orbit_MEO                            90 non-null     bool \n",
      " 7   Orbit_PO                             90 non-null     bool \n",
      " 8   Orbit_SO                             90 non-null     bool \n",
      " 9   Orbit_SSO                            90 non-null     bool \n",
      " 10  Orbit_VLEO                           90 non-null     bool \n",
      " 11  LaunchSite_CCAFS SLC 40              90 non-null     bool \n",
      " 12  LaunchSite_KSC LC 39A                90 non-null     bool \n",
      " 13  LaunchSite_VAFB SLC 4E               90 non-null     bool \n",
      " 14  Outcome_False ASDS                   90 non-null     bool \n",
      " 15  Outcome_False Ocean                  90 non-null     bool \n",
      " 16  Outcome_False RTLS                   90 non-null     bool \n",
      " 17  Outcome_None ASDS                    90 non-null     bool \n",
      " 18  Outcome_None None                    90 non-null     bool \n",
      " 19  Outcome_True ASDS                    90 non-null     bool \n",
      " 20  Outcome_True Ocean                   90 non-null     bool \n",
      " 21  Outcome_True RTLS                    90 non-null     bool \n",
      " 22  LandingPad_5e9e3032383ecb267a34e7c7  90 non-null     bool \n",
      " 23  LandingPad_5e9e3032383ecb554034e7c9  90 non-null     bool \n",
      " 24  LandingPad_5e9e3032383ecb6bb234e7ca  90 non-null     bool \n",
      " 25  LandingPad_5e9e3032383ecb761634e7cb  90 non-null     bool \n",
      " 26  LandingPad_5e9e3033383ecbb9e534e7cc  90 non-null     bool \n",
      " 27  LandingPad_WeDontKnow                90 non-null     bool \n",
      " 28  Serial_B0003                         90 non-null     bool \n",
      " 29  Serial_B0005                         90 non-null     bool \n",
      " 30  Serial_B0007                         90 non-null     bool \n",
      " 31  Serial_B1003                         90 non-null     bool \n",
      " 32  Serial_B1004                         90 non-null     bool \n",
      " 33  Serial_B1005                         90 non-null     bool \n",
      " 34  Serial_B1006                         90 non-null     bool \n",
      " 35  Serial_B1007                         90 non-null     bool \n",
      " 36  Serial_B1008                         90 non-null     bool \n",
      " 37  Serial_B1010                         90 non-null     bool \n",
      " 38  Serial_B1011                         90 non-null     bool \n",
      " 39  Serial_B1012                         90 non-null     bool \n",
      " 40  Serial_B1013                         90 non-null     bool \n",
      " 41  Serial_B1015                         90 non-null     bool \n",
      " 42  Serial_B1016                         90 non-null     bool \n",
      " 43  Serial_B1017                         90 non-null     bool \n",
      " 44  Serial_B1018                         90 non-null     bool \n",
      " 45  Serial_B1019                         90 non-null     bool \n",
      " 46  Serial_B1020                         90 non-null     bool \n",
      " 47  Serial_B1021                         90 non-null     bool \n",
      " 48  Serial_B1022                         90 non-null     bool \n",
      " 49  Serial_B1023                         90 non-null     bool \n",
      " 50  Serial_B1025                         90 non-null     bool \n",
      " 51  Serial_B1026                         90 non-null     bool \n",
      " 52  Serial_B1028                         90 non-null     bool \n",
      " 53  Serial_B1029                         90 non-null     bool \n",
      " 54  Serial_B1030                         90 non-null     bool \n",
      " 55  Serial_B1031                         90 non-null     bool \n",
      " 56  Serial_B1032                         90 non-null     bool \n",
      " 57  Serial_B1034                         90 non-null     bool \n",
      " 58  Serial_B1035                         90 non-null     bool \n",
      " 59  Serial_B1036                         90 non-null     bool \n",
      " 60  Serial_B1037                         90 non-null     bool \n",
      " 61  Serial_B1038                         90 non-null     bool \n",
      " 62  Serial_B1039                         90 non-null     bool \n",
      " 63  Serial_B1040                         90 non-null     bool \n",
      " 64  Serial_B1041                         90 non-null     bool \n",
      " 65  Serial_B1042                         90 non-null     bool \n",
      " 66  Serial_B1043                         90 non-null     bool \n",
      " 67  Serial_B1044                         90 non-null     bool \n",
      " 68  Serial_B1045                         90 non-null     bool \n",
      " 69  Serial_B1046                         90 non-null     bool \n",
      " 70  Serial_B1047                         90 non-null     bool \n",
      " 71  Serial_B1048                         90 non-null     bool \n",
      " 72  Serial_B1049                         90 non-null     bool \n",
      " 73  Serial_B1050                         90 non-null     bool \n",
      " 74  Serial_B1051                         90 non-null     bool \n",
      " 75  Serial_B1054                         90 non-null     bool \n",
      " 76  Serial_B1056                         90 non-null     bool \n",
      " 77  Serial_B1058                         90 non-null     bool \n",
      " 78  Serial_B1059                         90 non-null     bool \n",
      " 79  Serial_B1060                         90 non-null     bool \n",
      " 80  Serial_B1062                         90 non-null     bool \n",
      "dtypes: bool(81)\n",
      "memory usage: 7.2 KB\n"
     ]
    }
   ],
   "source": [
    "df_dummy.info()"
   ]
  },
  {
   "cell_type": "code",
   "execution_count": 74,
   "id": "b588f2fd-a70d-49e4-9ebc-b2b43b078def",
   "metadata": {},
   "outputs": [],
   "source": [
    "df_dummy = df_dummy.astype(int)"
   ]
  },
  {
   "cell_type": "code",
   "execution_count": 75,
   "id": "02fb7d21-e479-4baf-9a64-b684650d8b0d",
   "metadata": {},
   "outputs": [
    {
     "name": "stdout",
     "output_type": "stream",
     "text": [
      "<class 'pandas.core.frame.DataFrame'>\n",
      "RangeIndex: 90 entries, 0 to 89\n",
      "Data columns (total 81 columns):\n",
      " #   Column                               Non-Null Count  Dtype\n",
      "---  ------                               --------------  -----\n",
      " 0   Orbit_ES-L1                          90 non-null     int32\n",
      " 1   Orbit_GEO                            90 non-null     int32\n",
      " 2   Orbit_GTO                            90 non-null     int32\n",
      " 3   Orbit_HEO                            90 non-null     int32\n",
      " 4   Orbit_ISS                            90 non-null     int32\n",
      " 5   Orbit_LEO                            90 non-null     int32\n",
      " 6   Orbit_MEO                            90 non-null     int32\n",
      " 7   Orbit_PO                             90 non-null     int32\n",
      " 8   Orbit_SO                             90 non-null     int32\n",
      " 9   Orbit_SSO                            90 non-null     int32\n",
      " 10  Orbit_VLEO                           90 non-null     int32\n",
      " 11  LaunchSite_CCAFS SLC 40              90 non-null     int32\n",
      " 12  LaunchSite_KSC LC 39A                90 non-null     int32\n",
      " 13  LaunchSite_VAFB SLC 4E               90 non-null     int32\n",
      " 14  Outcome_False ASDS                   90 non-null     int32\n",
      " 15  Outcome_False Ocean                  90 non-null     int32\n",
      " 16  Outcome_False RTLS                   90 non-null     int32\n",
      " 17  Outcome_None ASDS                    90 non-null     int32\n",
      " 18  Outcome_None None                    90 non-null     int32\n",
      " 19  Outcome_True ASDS                    90 non-null     int32\n",
      " 20  Outcome_True Ocean                   90 non-null     int32\n",
      " 21  Outcome_True RTLS                    90 non-null     int32\n",
      " 22  LandingPad_5e9e3032383ecb267a34e7c7  90 non-null     int32\n",
      " 23  LandingPad_5e9e3032383ecb554034e7c9  90 non-null     int32\n",
      " 24  LandingPad_5e9e3032383ecb6bb234e7ca  90 non-null     int32\n",
      " 25  LandingPad_5e9e3032383ecb761634e7cb  90 non-null     int32\n",
      " 26  LandingPad_5e9e3033383ecbb9e534e7cc  90 non-null     int32\n",
      " 27  LandingPad_WeDontKnow                90 non-null     int32\n",
      " 28  Serial_B0003                         90 non-null     int32\n",
      " 29  Serial_B0005                         90 non-null     int32\n",
      " 30  Serial_B0007                         90 non-null     int32\n",
      " 31  Serial_B1003                         90 non-null     int32\n",
      " 32  Serial_B1004                         90 non-null     int32\n",
      " 33  Serial_B1005                         90 non-null     int32\n",
      " 34  Serial_B1006                         90 non-null     int32\n",
      " 35  Serial_B1007                         90 non-null     int32\n",
      " 36  Serial_B1008                         90 non-null     int32\n",
      " 37  Serial_B1010                         90 non-null     int32\n",
      " 38  Serial_B1011                         90 non-null     int32\n",
      " 39  Serial_B1012                         90 non-null     int32\n",
      " 40  Serial_B1013                         90 non-null     int32\n",
      " 41  Serial_B1015                         90 non-null     int32\n",
      " 42  Serial_B1016                         90 non-null     int32\n",
      " 43  Serial_B1017                         90 non-null     int32\n",
      " 44  Serial_B1018                         90 non-null     int32\n",
      " 45  Serial_B1019                         90 non-null     int32\n",
      " 46  Serial_B1020                         90 non-null     int32\n",
      " 47  Serial_B1021                         90 non-null     int32\n",
      " 48  Serial_B1022                         90 non-null     int32\n",
      " 49  Serial_B1023                         90 non-null     int32\n",
      " 50  Serial_B1025                         90 non-null     int32\n",
      " 51  Serial_B1026                         90 non-null     int32\n",
      " 52  Serial_B1028                         90 non-null     int32\n",
      " 53  Serial_B1029                         90 non-null     int32\n",
      " 54  Serial_B1030                         90 non-null     int32\n",
      " 55  Serial_B1031                         90 non-null     int32\n",
      " 56  Serial_B1032                         90 non-null     int32\n",
      " 57  Serial_B1034                         90 non-null     int32\n",
      " 58  Serial_B1035                         90 non-null     int32\n",
      " 59  Serial_B1036                         90 non-null     int32\n",
      " 60  Serial_B1037                         90 non-null     int32\n",
      " 61  Serial_B1038                         90 non-null     int32\n",
      " 62  Serial_B1039                         90 non-null     int32\n",
      " 63  Serial_B1040                         90 non-null     int32\n",
      " 64  Serial_B1041                         90 non-null     int32\n",
      " 65  Serial_B1042                         90 non-null     int32\n",
      " 66  Serial_B1043                         90 non-null     int32\n",
      " 67  Serial_B1044                         90 non-null     int32\n",
      " 68  Serial_B1045                         90 non-null     int32\n",
      " 69  Serial_B1046                         90 non-null     int32\n",
      " 70  Serial_B1047                         90 non-null     int32\n",
      " 71  Serial_B1048                         90 non-null     int32\n",
      " 72  Serial_B1049                         90 non-null     int32\n",
      " 73  Serial_B1050                         90 non-null     int32\n",
      " 74  Serial_B1051                         90 non-null     int32\n",
      " 75  Serial_B1054                         90 non-null     int32\n",
      " 76  Serial_B1056                         90 non-null     int32\n",
      " 77  Serial_B1058                         90 non-null     int32\n",
      " 78  Serial_B1059                         90 non-null     int32\n",
      " 79  Serial_B1060                         90 non-null     int32\n",
      " 80  Serial_B1062                         90 non-null     int32\n",
      "dtypes: int32(81)\n",
      "memory usage: 28.6 KB\n"
     ]
    }
   ],
   "source": [
    "df_dummy.info()"
   ]
  },
  {
   "cell_type": "code",
   "execution_count": 76,
   "id": "dfd2084d-c5a7-4d0d-873f-43905ea2d4df",
   "metadata": {},
   "outputs": [
    {
     "name": "stdout",
     "output_type": "stream",
     "text": [
      "<class 'pandas.core.frame.DataFrame'>\n",
      "RangeIndex: 90 entries, 0 to 89\n",
      "Data columns (total 14 columns):\n",
      " #   Column        Non-Null Count  Dtype  \n",
      "---  ------        --------------  -----  \n",
      " 0   FlightNumber  90 non-null     int64  \n",
      " 1   PayloadMass   90 non-null     float64\n",
      " 2   Orbit         90 non-null     object \n",
      " 3   LaunchSite    90 non-null     object \n",
      " 4   Outcome       90 non-null     object \n",
      " 5   Flights       90 non-null     int64  \n",
      " 6   GridFins      90 non-null     int32  \n",
      " 7   Reused        90 non-null     int32  \n",
      " 8   Legs          90 non-null     int32  \n",
      " 9   LandingPad    90 non-null     object \n",
      " 10  Block         90 non-null     float64\n",
      " 11  ReusedCount   90 non-null     int64  \n",
      " 12  Serial        90 non-null     object \n",
      " 13  Class         90 non-null     int64  \n",
      "dtypes: float64(2), int32(3), int64(4), object(5)\n",
      "memory usage: 8.9+ KB\n"
     ]
    }
   ],
   "source": [
    "df.info()"
   ]
  },
  {
   "cell_type": "code",
   "execution_count": 77,
   "id": "d18e69e9-c90a-4ebd-894e-79873ef5dd20",
   "metadata": {},
   "outputs": [],
   "source": [
    "df.drop(['Orbit','LaunchSite','Outcome','LandingPad','Serial'],axis = 1 , inplace = True)"
   ]
  },
  {
   "cell_type": "code",
   "execution_count": 78,
   "id": "7e2ff82b-04ac-4060-97c5-db181bd5a8d6",
   "metadata": {},
   "outputs": [
    {
     "name": "stdout",
     "output_type": "stream",
     "text": [
      "<class 'pandas.core.frame.DataFrame'>\n",
      "RangeIndex: 90 entries, 0 to 89\n",
      "Data columns (total 9 columns):\n",
      " #   Column        Non-Null Count  Dtype  \n",
      "---  ------        --------------  -----  \n",
      " 0   FlightNumber  90 non-null     int64  \n",
      " 1   PayloadMass   90 non-null     float64\n",
      " 2   Flights       90 non-null     int64  \n",
      " 3   GridFins      90 non-null     int32  \n",
      " 4   Reused        90 non-null     int32  \n",
      " 5   Legs          90 non-null     int32  \n",
      " 6   Block         90 non-null     float64\n",
      " 7   ReusedCount   90 non-null     int64  \n",
      " 8   Class         90 non-null     int64  \n",
      "dtypes: float64(2), int32(3), int64(4)\n",
      "memory usage: 5.4 KB\n"
     ]
    }
   ],
   "source": [
    "df.info()"
   ]
  },
  {
   "cell_type": "code",
   "execution_count": 79,
   "id": "1368b703-e96f-4419-a4ec-62efd0f31e98",
   "metadata": {},
   "outputs": [],
   "source": [
    "df=pd.concat([df,df_dummy],axis=1)"
   ]
  },
  {
   "cell_type": "code",
   "execution_count": 80,
   "id": "8042d0f6-059b-4ae1-a61d-ebcb7c9e0b47",
   "metadata": {},
   "outputs": [
    {
     "name": "stdout",
     "output_type": "stream",
     "text": [
      "<class 'pandas.core.frame.DataFrame'>\n",
      "RangeIndex: 90 entries, 0 to 89\n",
      "Data columns (total 90 columns):\n",
      " #   Column                               Non-Null Count  Dtype  \n",
      "---  ------                               --------------  -----  \n",
      " 0   FlightNumber                         90 non-null     int64  \n",
      " 1   PayloadMass                          90 non-null     float64\n",
      " 2   Flights                              90 non-null     int64  \n",
      " 3   GridFins                             90 non-null     int32  \n",
      " 4   Reused                               90 non-null     int32  \n",
      " 5   Legs                                 90 non-null     int32  \n",
      " 6   Block                                90 non-null     float64\n",
      " 7   ReusedCount                          90 non-null     int64  \n",
      " 8   Class                                90 non-null     int64  \n",
      " 9   Orbit_ES-L1                          90 non-null     int32  \n",
      " 10  Orbit_GEO                            90 non-null     int32  \n",
      " 11  Orbit_GTO                            90 non-null     int32  \n",
      " 12  Orbit_HEO                            90 non-null     int32  \n",
      " 13  Orbit_ISS                            90 non-null     int32  \n",
      " 14  Orbit_LEO                            90 non-null     int32  \n",
      " 15  Orbit_MEO                            90 non-null     int32  \n",
      " 16  Orbit_PO                             90 non-null     int32  \n",
      " 17  Orbit_SO                             90 non-null     int32  \n",
      " 18  Orbit_SSO                            90 non-null     int32  \n",
      " 19  Orbit_VLEO                           90 non-null     int32  \n",
      " 20  LaunchSite_CCAFS SLC 40              90 non-null     int32  \n",
      " 21  LaunchSite_KSC LC 39A                90 non-null     int32  \n",
      " 22  LaunchSite_VAFB SLC 4E               90 non-null     int32  \n",
      " 23  Outcome_False ASDS                   90 non-null     int32  \n",
      " 24  Outcome_False Ocean                  90 non-null     int32  \n",
      " 25  Outcome_False RTLS                   90 non-null     int32  \n",
      " 26  Outcome_None ASDS                    90 non-null     int32  \n",
      " 27  Outcome_None None                    90 non-null     int32  \n",
      " 28  Outcome_True ASDS                    90 non-null     int32  \n",
      " 29  Outcome_True Ocean                   90 non-null     int32  \n",
      " 30  Outcome_True RTLS                    90 non-null     int32  \n",
      " 31  LandingPad_5e9e3032383ecb267a34e7c7  90 non-null     int32  \n",
      " 32  LandingPad_5e9e3032383ecb554034e7c9  90 non-null     int32  \n",
      " 33  LandingPad_5e9e3032383ecb6bb234e7ca  90 non-null     int32  \n",
      " 34  LandingPad_5e9e3032383ecb761634e7cb  90 non-null     int32  \n",
      " 35  LandingPad_5e9e3033383ecbb9e534e7cc  90 non-null     int32  \n",
      " 36  LandingPad_WeDontKnow                90 non-null     int32  \n",
      " 37  Serial_B0003                         90 non-null     int32  \n",
      " 38  Serial_B0005                         90 non-null     int32  \n",
      " 39  Serial_B0007                         90 non-null     int32  \n",
      " 40  Serial_B1003                         90 non-null     int32  \n",
      " 41  Serial_B1004                         90 non-null     int32  \n",
      " 42  Serial_B1005                         90 non-null     int32  \n",
      " 43  Serial_B1006                         90 non-null     int32  \n",
      " 44  Serial_B1007                         90 non-null     int32  \n",
      " 45  Serial_B1008                         90 non-null     int32  \n",
      " 46  Serial_B1010                         90 non-null     int32  \n",
      " 47  Serial_B1011                         90 non-null     int32  \n",
      " 48  Serial_B1012                         90 non-null     int32  \n",
      " 49  Serial_B1013                         90 non-null     int32  \n",
      " 50  Serial_B1015                         90 non-null     int32  \n",
      " 51  Serial_B1016                         90 non-null     int32  \n",
      " 52  Serial_B1017                         90 non-null     int32  \n",
      " 53  Serial_B1018                         90 non-null     int32  \n",
      " 54  Serial_B1019                         90 non-null     int32  \n",
      " 55  Serial_B1020                         90 non-null     int32  \n",
      " 56  Serial_B1021                         90 non-null     int32  \n",
      " 57  Serial_B1022                         90 non-null     int32  \n",
      " 58  Serial_B1023                         90 non-null     int32  \n",
      " 59  Serial_B1025                         90 non-null     int32  \n",
      " 60  Serial_B1026                         90 non-null     int32  \n",
      " 61  Serial_B1028                         90 non-null     int32  \n",
      " 62  Serial_B1029                         90 non-null     int32  \n",
      " 63  Serial_B1030                         90 non-null     int32  \n",
      " 64  Serial_B1031                         90 non-null     int32  \n",
      " 65  Serial_B1032                         90 non-null     int32  \n",
      " 66  Serial_B1034                         90 non-null     int32  \n",
      " 67  Serial_B1035                         90 non-null     int32  \n",
      " 68  Serial_B1036                         90 non-null     int32  \n",
      " 69  Serial_B1037                         90 non-null     int32  \n",
      " 70  Serial_B1038                         90 non-null     int32  \n",
      " 71  Serial_B1039                         90 non-null     int32  \n",
      " 72  Serial_B1040                         90 non-null     int32  \n",
      " 73  Serial_B1041                         90 non-null     int32  \n",
      " 74  Serial_B1042                         90 non-null     int32  \n",
      " 75  Serial_B1043                         90 non-null     int32  \n",
      " 76  Serial_B1044                         90 non-null     int32  \n",
      " 77  Serial_B1045                         90 non-null     int32  \n",
      " 78  Serial_B1046                         90 non-null     int32  \n",
      " 79  Serial_B1047                         90 non-null     int32  \n",
      " 80  Serial_B1048                         90 non-null     int32  \n",
      " 81  Serial_B1049                         90 non-null     int32  \n",
      " 82  Serial_B1050                         90 non-null     int32  \n",
      " 83  Serial_B1051                         90 non-null     int32  \n",
      " 84  Serial_B1054                         90 non-null     int32  \n",
      " 85  Serial_B1056                         90 non-null     int32  \n",
      " 86  Serial_B1058                         90 non-null     int32  \n",
      " 87  Serial_B1059                         90 non-null     int32  \n",
      " 88  Serial_B1060                         90 non-null     int32  \n",
      " 89  Serial_B1062                         90 non-null     int32  \n",
      "dtypes: float64(2), int32(84), int64(4)\n",
      "memory usage: 33.9 KB\n"
     ]
    }
   ],
   "source": [
    "df.info()"
   ]
  },
  {
   "cell_type": "code",
   "execution_count": 81,
   "id": "8e625eac-9442-4cdc-8a2b-262540fbd28e",
   "metadata": {},
   "outputs": [],
   "source": [
    "df.to_csv('preprocessed_Dataset2.csv')"
   ]
  },
  {
   "cell_type": "code",
   "execution_count": 82,
   "id": "5687924b-4871-41b3-894a-613fab506fca",
   "metadata": {},
   "outputs": [],
   "source": [
    "X=df.drop('Class',axis=1)\n",
    "y=df['Class']"
   ]
  },
  {
   "cell_type": "code",
   "execution_count": 83,
   "id": "86325f71-07c0-4434-854c-b37a3b2e8bb2",
   "metadata": {},
   "outputs": [
    {
     "data": {
      "text/plain": [
       "6104.959411764707"
      ]
     },
     "execution_count": 83,
     "metadata": {},
     "output_type": "execute_result"
    }
   ],
   "source": [
    "X['PayloadMass'].mean()"
   ]
  },
  {
   "cell_type": "code",
   "execution_count": 84,
   "id": "30189e85-adde-4110-9cc4-b631ae6bffba",
   "metadata": {},
   "outputs": [
    {
     "data": {
      "text/plain": [
       "4694.671719712727"
      ]
     },
     "execution_count": 84,
     "metadata": {},
     "output_type": "execute_result"
    }
   ],
   "source": [
    "X['PayloadMass'].std()"
   ]
  },
  {
   "cell_type": "code",
   "execution_count": 85,
   "id": "6e9f3396-4e83-4bd3-9ad2-986d26c7836c",
   "metadata": {},
   "outputs": [
    {
     "data": {
      "text/plain": [
       "1.788888888888889"
      ]
     },
     "execution_count": 85,
     "metadata": {},
     "output_type": "execute_result"
    }
   ],
   "source": [
    "X['Flights'].mean()"
   ]
  },
  {
   "cell_type": "code",
   "execution_count": 86,
   "id": "8f475295-37c5-4900-9d5d-839ffef6bf60",
   "metadata": {},
   "outputs": [
    {
     "data": {
      "text/plain": [
       "1.2131715741866367"
      ]
     },
     "execution_count": 86,
     "metadata": {},
     "output_type": "execute_result"
    }
   ],
   "source": [
    "X['Flights'].std()"
   ]
  },
  {
   "cell_type": "code",
   "execution_count": 87,
   "id": "2af3fccd-5ae0-4a67-bbbe-82f93266bfb7",
   "metadata": {},
   "outputs": [],
   "source": [
    "transform=preprocessing.StandardScaler()"
   ]
  },
  {
   "cell_type": "code",
   "execution_count": 89,
   "id": "76c5ce33-3c63-401e-8d77-bfa0b09f1874",
   "metadata": {},
   "outputs": [],
   "source": [
    "X_scaled = transform.fit_transform(X)"
   ]
  },
  {
   "cell_type": "code",
   "execution_count": 90,
   "id": "373d3c02-665f-40fe-85c1-3c458c4a2df4",
   "metadata": {},
   "outputs": [
    {
     "data": {
      "text/plain": [
       "numpy.ndarray"
      ]
     },
     "execution_count": 90,
     "metadata": {},
     "output_type": "execute_result"
    }
   ],
   "source": [
    "type(X_scaled)"
   ]
  },
  {
   "cell_type": "code",
   "execution_count": 91,
   "id": "104c97e5-ba16-4868-b8cd-2eb25177b2e1",
   "metadata": {},
   "outputs": [],
   "source": [
    "col=X.columns\n",
    "X=pd.DataFrame(X_scaled,columns=col)"
   ]
  },
  {
   "cell_type": "code",
   "execution_count": 92,
   "id": "10379fa8-76b0-4c1a-adde-fc3a01f56e71",
   "metadata": {},
   "outputs": [
    {
     "data": {
      "text/plain": [
       "pandas.core.frame.DataFrame"
      ]
     },
     "execution_count": 92,
     "metadata": {},
     "output_type": "execute_result"
    }
   ],
   "source": [
    "type(X)"
   ]
  },
  {
   "cell_type": "code",
   "execution_count": 93,
   "id": "b7aaf619-929a-482f-8dc2-d36b6d6f8f77",
   "metadata": {},
   "outputs": [
    {
     "data": {
      "text/plain": [
       "-1.4186183092432555e-16"
      ]
     },
     "execution_count": 93,
     "metadata": {},
     "output_type": "execute_result"
    }
   ],
   "source": [
    "X['PayloadMass'].mean()"
   ]
  },
  {
   "cell_type": "code",
   "execution_count": 94,
   "id": "36b6a666-a840-45ac-bbec-fe724dea0599",
   "metadata": {},
   "outputs": [
    {
     "data": {
      "text/plain": [
       "1.0056022847309865"
      ]
     },
     "execution_count": 94,
     "metadata": {},
     "output_type": "execute_result"
    }
   ],
   "source": [
    "X['PayloadMass'].std()"
   ]
  },
  {
   "cell_type": "code",
   "execution_count": 95,
   "id": "0675d2ea-cc0a-4218-a530-c7b547beba2a",
   "metadata": {},
   "outputs": [],
   "source": [
    "X_train,X_test,y_train,y_test=train_test_split(X,y,test_size=0.3,random_state=101)"
   ]
  },
  {
   "cell_type": "code",
   "execution_count": 96,
   "id": "a5279220-5430-4114-8676-896e85a4a780",
   "metadata": {},
   "outputs": [
    {
     "data": {
      "text/html": [
       "<style>#sk-container-id-1 {color: black;}#sk-container-id-1 pre{padding: 0;}#sk-container-id-1 div.sk-toggleable {background-color: white;}#sk-container-id-1 label.sk-toggleable__label {cursor: pointer;display: block;width: 100%;margin-bottom: 0;padding: 0.3em;box-sizing: border-box;text-align: center;}#sk-container-id-1 label.sk-toggleable__label-arrow:before {content: \"▸\";float: left;margin-right: 0.25em;color: #696969;}#sk-container-id-1 label.sk-toggleable__label-arrow:hover:before {color: black;}#sk-container-id-1 div.sk-estimator:hover label.sk-toggleable__label-arrow:before {color: black;}#sk-container-id-1 div.sk-toggleable__content {max-height: 0;max-width: 0;overflow: hidden;text-align: left;background-color: #f0f8ff;}#sk-container-id-1 div.sk-toggleable__content pre {margin: 0.2em;color: black;border-radius: 0.25em;background-color: #f0f8ff;}#sk-container-id-1 input.sk-toggleable__control:checked~div.sk-toggleable__content {max-height: 200px;max-width: 100%;overflow: auto;}#sk-container-id-1 input.sk-toggleable__control:checked~label.sk-toggleable__label-arrow:before {content: \"▾\";}#sk-container-id-1 div.sk-estimator input.sk-toggleable__control:checked~label.sk-toggleable__label {background-color: #d4ebff;}#sk-container-id-1 div.sk-label input.sk-toggleable__control:checked~label.sk-toggleable__label {background-color: #d4ebff;}#sk-container-id-1 input.sk-hidden--visually {border: 0;clip: rect(1px 1px 1px 1px);clip: rect(1px, 1px, 1px, 1px);height: 1px;margin: -1px;overflow: hidden;padding: 0;position: absolute;width: 1px;}#sk-container-id-1 div.sk-estimator {font-family: monospace;background-color: #f0f8ff;border: 1px dotted black;border-radius: 0.25em;box-sizing: border-box;margin-bottom: 0.5em;}#sk-container-id-1 div.sk-estimator:hover {background-color: #d4ebff;}#sk-container-id-1 div.sk-parallel-item::after {content: \"\";width: 100%;border-bottom: 1px solid gray;flex-grow: 1;}#sk-container-id-1 div.sk-label:hover label.sk-toggleable__label {background-color: #d4ebff;}#sk-container-id-1 div.sk-serial::before {content: \"\";position: absolute;border-left: 1px solid gray;box-sizing: border-box;top: 0;bottom: 0;left: 50%;z-index: 0;}#sk-container-id-1 div.sk-serial {display: flex;flex-direction: column;align-items: center;background-color: white;padding-right: 0.2em;padding-left: 0.2em;position: relative;}#sk-container-id-1 div.sk-item {position: relative;z-index: 1;}#sk-container-id-1 div.sk-parallel {display: flex;align-items: stretch;justify-content: center;background-color: white;position: relative;}#sk-container-id-1 div.sk-item::before, #sk-container-id-1 div.sk-parallel-item::before {content: \"\";position: absolute;border-left: 1px solid gray;box-sizing: border-box;top: 0;bottom: 0;left: 50%;z-index: -1;}#sk-container-id-1 div.sk-parallel-item {display: flex;flex-direction: column;z-index: 1;position: relative;background-color: white;}#sk-container-id-1 div.sk-parallel-item:first-child::after {align-self: flex-end;width: 50%;}#sk-container-id-1 div.sk-parallel-item:last-child::after {align-self: flex-start;width: 50%;}#sk-container-id-1 div.sk-parallel-item:only-child::after {width: 0;}#sk-container-id-1 div.sk-dashed-wrapped {border: 1px dashed gray;margin: 0 0.4em 0.5em 0.4em;box-sizing: border-box;padding-bottom: 0.4em;background-color: white;}#sk-container-id-1 div.sk-label label {font-family: monospace;font-weight: bold;display: inline-block;line-height: 1.2em;}#sk-container-id-1 div.sk-label-container {text-align: center;}#sk-container-id-1 div.sk-container {/* jupyter's `normalize.less` sets `[hidden] { display: none; }` but bootstrap.min.css set `[hidden] { display: none !important; }` so we also need the `!important` here to be able to override the default hidden behavior on the sphinx rendered scikit-learn.org. See: https://github.com/scikit-learn/scikit-learn/issues/21755 */display: inline-block !important;position: relative;}#sk-container-id-1 div.sk-text-repr-fallback {display: none;}</style><div id=\"sk-container-id-1\" class=\"sk-top-container\"><div class=\"sk-text-repr-fallback\"><pre>GridSearchCV(cv=4, estimator=LogisticRegression(),\n",
       "             param_grid={&#x27;C&#x27;: [0.01, 0.1, 1], &#x27;penalty&#x27;: [&#x27;l2&#x27;],\n",
       "                         &#x27;solver&#x27;: [&#x27;lbfgs&#x27;]})</pre><b>In a Jupyter environment, please rerun this cell to show the HTML representation or trust the notebook. <br />On GitHub, the HTML representation is unable to render, please try loading this page with nbviewer.org.</b></div><div class=\"sk-container\" hidden><div class=\"sk-item sk-dashed-wrapped\"><div class=\"sk-label-container\"><div class=\"sk-label sk-toggleable\"><input class=\"sk-toggleable__control sk-hidden--visually\" id=\"sk-estimator-id-1\" type=\"checkbox\" ><label for=\"sk-estimator-id-1\" class=\"sk-toggleable__label sk-toggleable__label-arrow\">GridSearchCV</label><div class=\"sk-toggleable__content\"><pre>GridSearchCV(cv=4, estimator=LogisticRegression(),\n",
       "             param_grid={&#x27;C&#x27;: [0.01, 0.1, 1], &#x27;penalty&#x27;: [&#x27;l2&#x27;],\n",
       "                         &#x27;solver&#x27;: [&#x27;lbfgs&#x27;]})</pre></div></div></div><div class=\"sk-parallel\"><div class=\"sk-parallel-item\"><div class=\"sk-item\"><div class=\"sk-label-container\"><div class=\"sk-label sk-toggleable\"><input class=\"sk-toggleable__control sk-hidden--visually\" id=\"sk-estimator-id-2\" type=\"checkbox\" ><label for=\"sk-estimator-id-2\" class=\"sk-toggleable__label sk-toggleable__label-arrow\">estimator: LogisticRegression</label><div class=\"sk-toggleable__content\"><pre>LogisticRegression()</pre></div></div></div><div class=\"sk-serial\"><div class=\"sk-item\"><div class=\"sk-estimator sk-toggleable\"><input class=\"sk-toggleable__control sk-hidden--visually\" id=\"sk-estimator-id-3\" type=\"checkbox\" ><label for=\"sk-estimator-id-3\" class=\"sk-toggleable__label sk-toggleable__label-arrow\">LogisticRegression</label><div class=\"sk-toggleable__content\"><pre>LogisticRegression()</pre></div></div></div></div></div></div></div></div></div></div>"
      ],
      "text/plain": [
       "GridSearchCV(cv=4, estimator=LogisticRegression(),\n",
       "             param_grid={'C': [0.01, 0.1, 1], 'penalty': ['l2'],\n",
       "                         'solver': ['lbfgs']})"
      ]
     },
     "execution_count": 96,
     "metadata": {},
     "output_type": "execute_result"
    }
   ],
   "source": [
    "lr=LogisticRegression()\n",
    "params={'C':[0.01,0.1,1],'penalty':['l2'],'solver':['lbfgs']}\n",
    "lr_CV=GridSearchCV(lr,params,cv=4)\n",
    "lr_CV.fit(X_train,y_train)"
   ]
  },
  {
   "cell_type": "code",
   "execution_count": 98,
   "id": "0dd55287-b13a-47cc-8606-f2309a6302f2",
   "metadata": {},
   "outputs": [
    {
     "name": "stdout",
     "output_type": "stream",
     "text": [
      "Best params are:  {'C': 0.1, 'penalty': 'l2', 'solver': 'lbfgs'}\n"
     ]
    }
   ],
   "source": [
    "print(\"Best params are: \" , lr_CV.best_params_)"
   ]
  },
  {
   "cell_type": "code",
   "execution_count": 99,
   "id": "662b7874-ec2d-40b7-9a2f-644ecea94f3b",
   "metadata": {},
   "outputs": [
    {
     "name": "stdout",
     "output_type": "stream",
     "text": [
      "Best score is:  0.8427083333333334\n"
     ]
    }
   ],
   "source": [
    "print(\"Best score is: \" , lr_CV.best_score_)"
   ]
  },
  {
   "cell_type": "code",
   "execution_count": 100,
   "id": "cf93f172-3c59-496b-bc4e-a74b32eda733",
   "metadata": {},
   "outputs": [
    {
     "data": {
      "text/plain": [
       "0.8888888888888888"
      ]
     },
     "execution_count": 100,
     "metadata": {},
     "output_type": "execute_result"
    }
   ],
   "source": [
    "lr_CV.score(X_test,y_test)"
   ]
  },
  {
   "cell_type": "code",
   "execution_count": 118,
   "id": "4834c4c3-204d-4031-9511-20322ef9a61f",
   "metadata": {},
   "outputs": [],
   "source": [
    "accuracy = []\n",
    "methods = []"
   ]
  },
  {
   "cell_type": "code",
   "execution_count": 119,
   "id": "df0a561c-1aba-44c7-a947-799715d6a7b9",
   "metadata": {},
   "outputs": [],
   "source": [
    "accuracy.append(lr_CV.score(X_test,y_test))"
   ]
  },
  {
   "cell_type": "code",
   "execution_count": 103,
   "id": "77bf30f9-913d-425f-9d57-77baeaa035e6",
   "metadata": {},
   "outputs": [
    {
     "data": {
      "text/plain": [
       "[0.8888888888888888]"
      ]
     },
     "execution_count": 103,
     "metadata": {},
     "output_type": "execute_result"
    }
   ],
   "source": [
    "accuracy"
   ]
  },
  {
   "cell_type": "code",
   "execution_count": 120,
   "id": "6ce39537-1c6d-4451-9e6a-33e73f4ab0b7",
   "metadata": {},
   "outputs": [],
   "source": [
    "methods.append('Logistic Regression')"
   ]
  },
  {
   "cell_type": "code",
   "execution_count": 105,
   "id": "0a35c927-6edc-4dec-995c-269050666e4e",
   "metadata": {},
   "outputs": [
    {
     "data": {
      "text/plain": [
       "['Logistic Regression']"
      ]
     },
     "execution_count": 105,
     "metadata": {},
     "output_type": "execute_result"
    }
   ],
   "source": [
    "methods"
   ]
  },
  {
   "cell_type": "code",
   "execution_count": 107,
   "id": "9ab18cf8-3de8-49c3-9a09-c783f8574772",
   "metadata": {},
   "outputs": [],
   "source": [
    "def plot_confusion_matrix(y,y_predict):\n",
    "    from sklearn.metrics import confusion_matrix\n",
    "    cm = confusion_matrix(y,y_predict)\n",
    "    ax = plt.subplot()\n",
    "    sns.heatmap(cm,annot = True, ax=ax)\n",
    "    ax.set_xlabel('Predicted Labels')\n",
    "    ax.set_ylabel('True Labels')\n",
    "    ax.set_title('Confusion Matrix')\n",
    "    ax.xaxis.set_ticklabels(['did not land','landed'])\n",
    "    ax.yaxis.set_ticklabels(['did not land','landed'])"
   ]
  },
  {
   "cell_type": "code",
   "execution_count": 108,
   "id": "174cbc67-303b-4c9f-95ab-c76b65ce07a3",
   "metadata": {},
   "outputs": [],
   "source": [
    "y_hat = lr_CV.predict(X_test)"
   ]
  },
  {
   "cell_type": "code",
   "execution_count": 109,
   "id": "db8fd43e-7b13-4887-bd6d-7c240105d6a5",
   "metadata": {},
   "outputs": [
    {
     "data": {
      "image/png": "[encoded data removed]",
      "text/plain": [
       "<Figure size 640x480 with 2 Axes>"
      ]
     },
     "metadata": {},
     "output_type": "display_data"
    }
   ],
   "source": [
    "plot_confusion_matrix(y_test,y_hat)"
   ]
  },
  {
   "cell_type": "code",
   "execution_count": 110,
   "id": "0d5eb50f-d588-4a6f-bea4-a6cf156a6c0f",
   "metadata": {},
   "outputs": [
    {
     "data": {
      "text/html": [
       "<style>#sk-container-id-2 {color: black;}#sk-container-id-2 pre{padding: 0;}#sk-container-id-2 div.sk-toggleable {background-color: white;}#sk-container-id-2 label.sk-toggleable__label {cursor: pointer;display: block;width: 100%;margin-bottom: 0;padding: 0.3em;box-sizing: border-box;text-align: center;}#sk-container-id-2 label.sk-toggleable__label-arrow:before {content: \"▸\";float: left;margin-right: 0.25em;color: #696969;}#sk-container-id-2 label.sk-toggleable__label-arrow:hover:before {color: black;}#sk-container-id-2 div.sk-estimator:hover label.sk-toggleable__label-arrow:before {color: black;}#sk-container-id-2 div.sk-toggleable__content {max-height: 0;max-width: 0;overflow: hidden;text-align: left;background-color: #f0f8ff;}#sk-container-id-2 div.sk-toggleable__content pre {margin: 0.2em;color: black;border-radius: 0.25em;background-color: #f0f8ff;}#sk-container-id-2 input.sk-toggleable__control:checked~div.sk-toggleable__content {max-height: 200px;max-width: 100%;overflow: auto;}#sk-container-id-2 input.sk-toggleable__control:checked~label.sk-toggleable__label-arrow:before {content: \"▾\";}#sk-container-id-2 div.sk-estimator input.sk-toggleable__control:checked~label.sk-toggleable__label {background-color: #d4ebff;}#sk-container-id-2 div.sk-label input.sk-toggleable__control:checked~label.sk-toggleable__label {background-color: #d4ebff;}#sk-container-id-2 input.sk-hidden--visually {border: 0;clip: rect(1px 1px 1px 1px);clip: rect(1px, 1px, 1px, 1px);height: 1px;margin: -1px;overflow: hidden;padding: 0;position: absolute;width: 1px;}#sk-container-id-2 div.sk-estimator {font-family: monospace;background-color: #f0f8ff;border: 1px dotted black;border-radius: 0.25em;box-sizing: border-box;margin-bottom: 0.5em;}#sk-container-id-2 div.sk-estimator:hover {background-color: #d4ebff;}#sk-container-id-2 div.sk-parallel-item::after {content: \"\";width: 100%;border-bottom: 1px solid gray;flex-grow: 1;}#sk-container-id-2 div.sk-label:hover label.sk-toggleable__label {background-color: #d4ebff;}#sk-container-id-2 div.sk-serial::before {content: \"\";position: absolute;border-left: 1px solid gray;box-sizing: border-box;top: 0;bottom: 0;left: 50%;z-index: 0;}#sk-container-id-2 div.sk-serial {display: flex;flex-direction: column;align-items: center;background-color: white;padding-right: 0.2em;padding-left: 0.2em;position: relative;}#sk-container-id-2 div.sk-item {position: relative;z-index: 1;}#sk-container-id-2 div.sk-parallel {display: flex;align-items: stretch;justify-content: center;background-color: white;position: relative;}#sk-container-id-2 div.sk-item::before, #sk-container-id-2 div.sk-parallel-item::before {content: \"\";position: absolute;border-left: 1px solid gray;box-sizing: border-box;top: 0;bottom: 0;left: 50%;z-index: -1;}#sk-container-id-2 div.sk-parallel-item {display: flex;flex-direction: column;z-index: 1;position: relative;background-color: white;}#sk-container-id-2 div.sk-parallel-item:first-child::after {align-self: flex-end;width: 50%;}#sk-container-id-2 div.sk-parallel-item:last-child::after {align-self: flex-start;width: 50%;}#sk-container-id-2 div.sk-parallel-item:only-child::after {width: 0;}#sk-container-id-2 div.sk-dashed-wrapped {border: 1px dashed gray;margin: 0 0.4em 0.5em 0.4em;box-sizing: border-box;padding-bottom: 0.4em;background-color: white;}#sk-container-id-2 div.sk-label label {font-family: monospace;font-weight: bold;display: inline-block;line-height: 1.2em;}#sk-container-id-2 div.sk-label-container {text-align: center;}#sk-container-id-2 div.sk-container {/* jupyter's `normalize.less` sets `[hidden] { display: none; }` but bootstrap.min.css set `[hidden] { display: none !important; }` so we also need the `!important` here to be able to override the default hidden behavior on the sphinx rendered scikit-learn.org. See: https://github.com/scikit-learn/scikit-learn/issues/21755 */display: inline-block !important;position: relative;}#sk-container-id-2 div.sk-text-repr-fallback {display: none;}</style><div id=\"sk-container-id-2\" class=\"sk-top-container\"><div class=\"sk-text-repr-fallback\"><pre>GridSearchCV(cv=10, estimator=SVC(),\n",
       "             param_grid={&#x27;C&#x27;: (0.5, 1.0, 1.5),\n",
       "                         &#x27;kernel&#x27;: (&#x27;linear&#x27;, &#x27;rbf&#x27;, &#x27;poly&#x27;, &#x27;sigmoid&#x27;)})</pre><b>In a Jupyter environment, please rerun this cell to show the HTML representation or trust the notebook. <br />On GitHub, the HTML representation is unable to render, please try loading this page with nbviewer.org.</b></div><div class=\"sk-container\" hidden><div class=\"sk-item sk-dashed-wrapped\"><div class=\"sk-label-container\"><div class=\"sk-label sk-toggleable\"><input class=\"sk-toggleable__control sk-hidden--visually\" id=\"sk-estimator-id-4\" type=\"checkbox\" ><label for=\"sk-estimator-id-4\" class=\"sk-toggleable__label sk-toggleable__label-arrow\">GridSearchCV</label><div class=\"sk-toggleable__content\"><pre>GridSearchCV(cv=10, estimator=SVC(),\n",
       "             param_grid={&#x27;C&#x27;: (0.5, 1.0, 1.5),\n",
       "                         &#x27;kernel&#x27;: (&#x27;linear&#x27;, &#x27;rbf&#x27;, &#x27;poly&#x27;, &#x27;sigmoid&#x27;)})</pre></div></div></div><div class=\"sk-parallel\"><div class=\"sk-parallel-item\"><div class=\"sk-item\"><div class=\"sk-label-container\"><div class=\"sk-label sk-toggleable\"><input class=\"sk-toggleable__control sk-hidden--visually\" id=\"sk-estimator-id-5\" type=\"checkbox\" ><label for=\"sk-estimator-id-5\" class=\"sk-toggleable__label sk-toggleable__label-arrow\">estimator: SVC</label><div class=\"sk-toggleable__content\"><pre>SVC()</pre></div></div></div><div class=\"sk-serial\"><div class=\"sk-item\"><div class=\"sk-estimator sk-toggleable\"><input class=\"sk-toggleable__control sk-hidden--visually\" id=\"sk-estimator-id-6\" type=\"checkbox\" ><label for=\"sk-estimator-id-6\" class=\"sk-toggleable__label sk-toggleable__label-arrow\">SVC</label><div class=\"sk-toggleable__content\"><pre>SVC()</pre></div></div></div></div></div></div></div></div></div></div>"
      ],
      "text/plain": [
       "GridSearchCV(cv=10, estimator=SVC(),\n",
       "             param_grid={'C': (0.5, 1.0, 1.5),\n",
       "                         'kernel': ('linear', 'rbf', 'poly', 'sigmoid')})"
      ]
     },
     "execution_count": 110,
     "metadata": {},
     "output_type": "execute_result"
    }
   ],
   "source": [
    "svm = SVC()\n",
    "params = {'kernel':('linear','rbf','poly','sigmoid'),'C':(0.5,1.0,1.5)}\n",
    "svm_CV=GridSearchCV(svm,params,cv=10)\n",
    "svm_CV.fit(X_train,y_train)"
   ]
  },
  {
   "cell_type": "code",
   "execution_count": 111,
   "id": "16f151da-6fc7-4957-b2a9-5153d4ad5e90",
   "metadata": {},
   "outputs": [
    {
     "name": "stdout",
     "output_type": "stream",
     "text": [
      "Best params are:  {'C': 1.5, 'kernel': 'sigmoid'}\n",
      "Best score is:  0.9357142857142857\n"
     ]
    }
   ],
   "source": [
    "print(\"Best params are: \" , svm_CV.best_params_)\n",
    "print(\"Best score is: \" , svm_CV.best_score_)"
   ]
  },
  {
   "cell_type": "code",
   "execution_count": 112,
   "id": "0734cc56-7993-4e7e-b642-db987a28d749",
   "metadata": {},
   "outputs": [
    {
     "data": {
      "text/plain": [
       "0.9259259259259259"
      ]
     },
     "execution_count": 112,
     "metadata": {},
     "output_type": "execute_result"
    }
   ],
   "source": [
    "svm_CV.score(X_test,y_test)"
   ]
  },
  {
   "cell_type": "code",
   "execution_count": 121,
   "id": "1bdabe82-8d0b-4bde-9b38-dfa0e5320f91",
   "metadata": {},
   "outputs": [],
   "source": [
    "accuracy.append(svm_CV.score(X_test,y_test))\n",
    "methods.append('Support Vector Machine')"
   ]
  },
  {
   "cell_type": "code",
   "execution_count": 122,
   "id": "69116e38-256a-4944-b9c1-1f3bc51e3136",
   "metadata": {},
   "outputs": [
    {
     "data": {
      "text/plain": [
       "[0.8888888888888888, 0.9259259259259259]"
      ]
     },
     "execution_count": 122,
     "metadata": {},
     "output_type": "execute_result"
    }
   ],
   "source": [
    "accuracy"
   ]
  },
  {
   "cell_type": "code",
   "execution_count": 123,
   "id": "f6d0ac9f-15dd-45a6-b717-8efe6c6303a6",
   "metadata": {},
   "outputs": [
    {
     "data": {
      "text/plain": [
       "['Logistic Regression', 'Support Vector Machine']"
      ]
     },
     "execution_count": 123,
     "metadata": {},
     "output_type": "execute_result"
    }
   ],
   "source": [
    "methods"
   ]
  },
  {
   "cell_type": "code",
   "execution_count": 124,
   "id": "91161ea3-8175-46e0-a8f5-20a3fddfdf40",
   "metadata": {},
   "outputs": [
    {
     "data": {
      "image/png": "[encoded data removed]",
      "text/plain": [
       "<Figure size 640x480 with 2 Axes>"
      ]
     },
     "metadata": {},
     "output_type": "display_data"
    }
   ],
   "source": [
    "y_hat = svm_CV.predict(X_test)\n",
    "plot_confusion_matrix(y_test,y_hat)"
   ]
  },
  {
   "cell_type": "code",
   "execution_count": 127,
   "id": "f3ecd9c8-4300-4af9-8bd9-8793c068c96f",
   "metadata": {},
   "outputs": [],
   "source": [
    "tree = DecisionTreeClassifier()"
   ]
  },
  {
   "cell_type": "code",
   "execution_count": 184,
   "id": "48e4929c-e103-4eb8-b062-0cc628b51c6b",
   "metadata": {},
   "outputs": [],
   "source": [
    "params = {'criterion':['gini','entropy'],\n",
    "          'splitter':['best','random'],\n",
    "          'max_depth':[2*n for n in range(1,10)],          \n",
    "          'min_samples_leaf':[1,2,4],\n",
    "          'min_samples_split':[2,5,10]}"
   ]
  },
  {
   "cell_type": "code",
   "execution_count": 185,
   "id": "3230ce46-96e1-4674-96ce-ec588b72ad8b",
   "metadata": {},
   "outputs": [],
   "source": [
    "tree_CV = GridSearchCV(tree,params,cv = 10)"
   ]
  },
  {
   "cell_type": "code",
   "execution_count": 186,
   "id": "fe6280bf-0943-461d-8745-6759a9072407",
   "metadata": {},
   "outputs": [
    {
     "data": {
      "text/html": [
       "<style>#sk-container-id-14 {color: black;}#sk-container-id-14 pre{padding: 0;}#sk-container-id-14 div.sk-toggleable {background-color: white;}#sk-container-id-14 label.sk-toggleable__label {cursor: pointer;display: block;width: 100%;margin-bottom: 0;padding: 0.3em;box-sizing: border-box;text-align: center;}#sk-container-id-14 label.sk-toggleable__label-arrow:before {content: \"▸\";float: left;margin-right: 0.25em;color: #696969;}#sk-container-id-14 label.sk-toggleable__label-arrow:hover:before {color: black;}#sk-container-id-14 div.sk-estimator:hover label.sk-toggleable__label-arrow:before {color: black;}#sk-container-id-14 div.sk-toggleable__content {max-height: 0;max-width: 0;overflow: hidden;text-align: left;background-color: #f0f8ff;}#sk-container-id-14 div.sk-toggleable__content pre {margin: 0.2em;color: black;border-radius: 0.25em;background-color: #f0f8ff;}#sk-container-id-14 input.sk-toggleable__control:checked~div.sk-toggleable__content {max-height: 200px;max-width: 100%;overflow: auto;}#sk-container-id-14 input.sk-toggleable__control:checked~label.sk-toggleable__label-arrow:before {content: \"▾\";}#sk-container-id-14 div.sk-estimator input.sk-toggleable__control:checked~label.sk-toggleable__label {background-color: #d4ebff;}#sk-container-id-14 div.sk-label input.sk-toggleable__control:checked~label.sk-toggleable__label {background-color: #d4ebff;}#sk-container-id-14 input.sk-hidden--visually {border: 0;clip: rect(1px 1px 1px 1px);clip: rect(1px, 1px, 1px, 1px);height: 1px;margin: -1px;overflow: hidden;padding: 0;position: absolute;width: 1px;}#sk-container-id-14 div.sk-estimator {font-family: monospace;background-color: #f0f8ff;border: 1px dotted black;border-radius: 0.25em;box-sizing: border-box;margin-bottom: 0.5em;}#sk-container-id-14 div.sk-estimator:hover {background-color: #d4ebff;}#sk-container-id-14 div.sk-parallel-item::after {content: \"\";width: 100%;border-bottom: 1px solid gray;flex-grow: 1;}#sk-container-id-14 div.sk-label:hover label.sk-toggleable__label {background-color: #d4ebff;}#sk-container-id-14 div.sk-serial::before {content: \"\";position: absolute;border-left: 1px solid gray;box-sizing: border-box;top: 0;bottom: 0;left: 50%;z-index: 0;}#sk-container-id-14 div.sk-serial {display: flex;flex-direction: column;align-items: center;background-color: white;padding-right: 0.2em;padding-left: 0.2em;position: relative;}#sk-container-id-14 div.sk-item {position: relative;z-index: 1;}#sk-container-id-14 div.sk-parallel {display: flex;align-items: stretch;justify-content: center;background-color: white;position: relative;}#sk-container-id-14 div.sk-item::before, #sk-container-id-14 div.sk-parallel-item::before {content: \"\";position: absolute;border-left: 1px solid gray;box-sizing: border-box;top: 0;bottom: 0;left: 50%;z-index: -1;}#sk-container-id-14 div.sk-parallel-item {display: flex;flex-direction: column;z-index: 1;position: relative;background-color: white;}#sk-container-id-14 div.sk-parallel-item:first-child::after {align-self: flex-end;width: 50%;}#sk-container-id-14 div.sk-parallel-item:last-child::after {align-self: flex-start;width: 50%;}#sk-container-id-14 div.sk-parallel-item:only-child::after {width: 0;}#sk-container-id-14 div.sk-dashed-wrapped {border: 1px dashed gray;margin: 0 0.4em 0.5em 0.4em;box-sizing: border-box;padding-bottom: 0.4em;background-color: white;}#sk-container-id-14 div.sk-label label {font-family: monospace;font-weight: bold;display: inline-block;line-height: 1.2em;}#sk-container-id-14 div.sk-label-container {text-align: center;}#sk-container-id-14 div.sk-container {/* jupyter's `normalize.less` sets `[hidden] { display: none; }` but bootstrap.min.css set `[hidden] { display: none !important; }` so we also need the `!important` here to be able to override the default hidden behavior on the sphinx rendered scikit-learn.org. See: https://github.com/scikit-learn/scikit-learn/issues/21755 */display: inline-block !important;position: relative;}#sk-container-id-14 div.sk-text-repr-fallback {display: none;}</style><div id=\"sk-container-id-14\" class=\"sk-top-container\"><div class=\"sk-text-repr-fallback\"><pre>GridSearchCV(cv=10, estimator=DecisionTreeClassifier(),\n",
       "             param_grid={&#x27;criterion&#x27;: [&#x27;gini&#x27;, &#x27;entropy&#x27;],\n",
       "                         &#x27;max_depth&#x27;: [2, 4, 6, 8, 10, 12, 14, 16, 18],\n",
       "                         &#x27;min_samples_leaf&#x27;: [1, 2, 4],\n",
       "                         &#x27;min_samples_split&#x27;: [2, 5, 10],\n",
       "                         &#x27;splitter&#x27;: [&#x27;best&#x27;, &#x27;random&#x27;]})</pre><b>In a Jupyter environment, please rerun this cell to show the HTML representation or trust the notebook. <br />On GitHub, the HTML representation is unable to render, please try loading this page with nbviewer.org.</b></div><div class=\"sk-container\" hidden><div class=\"sk-item sk-dashed-wrapped\"><div class=\"sk-label-container\"><div class=\"sk-label sk-toggleable\"><input class=\"sk-toggleable__control sk-hidden--visually\" id=\"sk-estimator-id-40\" type=\"checkbox\" ><label for=\"sk-estimator-id-40\" class=\"sk-toggleable__label sk-toggleable__label-arrow\">GridSearchCV</label><div class=\"sk-toggleable__content\"><pre>GridSearchCV(cv=10, estimator=DecisionTreeClassifier(),\n",
       "             param_grid={&#x27;criterion&#x27;: [&#x27;gini&#x27;, &#x27;entropy&#x27;],\n",
       "                         &#x27;max_depth&#x27;: [2, 4, 6, 8, 10, 12, 14, 16, 18],\n",
       "                         &#x27;min_samples_leaf&#x27;: [1, 2, 4],\n",
       "                         &#x27;min_samples_split&#x27;: [2, 5, 10],\n",
       "                         &#x27;splitter&#x27;: [&#x27;best&#x27;, &#x27;random&#x27;]})</pre></div></div></div><div class=\"sk-parallel\"><div class=\"sk-parallel-item\"><div class=\"sk-item\"><div class=\"sk-label-container\"><div class=\"sk-label sk-toggleable\"><input class=\"sk-toggleable__control sk-hidden--visually\" id=\"sk-estimator-id-41\" type=\"checkbox\" ><label for=\"sk-estimator-id-41\" class=\"sk-toggleable__label sk-toggleable__label-arrow\">estimator: DecisionTreeClassifier</label><div class=\"sk-toggleable__content\"><pre>DecisionTreeClassifier()</pre></div></div></div><div class=\"sk-serial\"><div class=\"sk-item\"><div class=\"sk-estimator sk-toggleable\"><input class=\"sk-toggleable__control sk-hidden--visually\" id=\"sk-estimator-id-42\" type=\"checkbox\" ><label for=\"sk-estimator-id-42\" class=\"sk-toggleable__label sk-toggleable__label-arrow\">DecisionTreeClassifier</label><div class=\"sk-toggleable__content\"><pre>DecisionTreeClassifier()</pre></div></div></div></div></div></div></div></div></div></div>"
      ],
      "text/plain": [
       "GridSearchCV(cv=10, estimator=DecisionTreeClassifier(),\n",
       "             param_grid={'criterion': ['gini', 'entropy'],\n",
       "                         'max_depth': [2, 4, 6, 8, 10, 12, 14, 16, 18],\n",
       "                         'min_samples_leaf': [1, 2, 4],\n",
       "                         'min_samples_split': [2, 5, 10],\n",
       "                         'splitter': ['best', 'random']})"
      ]
     },
     "execution_count": 186,
     "metadata": {},
     "output_type": "execute_result"
    }
   ],
   "source": [
    "tree_CV.fit(X_train,y_train)"
   ]
  },
  {
   "cell_type": "code",
   "execution_count": 187,
   "id": "eb1c6dfc-8c3c-4bc6-849e-83bbd65159fc",
   "metadata": {},
   "outputs": [
    {
     "name": "stdout",
     "output_type": "stream",
     "text": [
      "Best params are:  {'criterion': 'entropy', 'max_depth': 4, 'min_samples_leaf': 1, 'min_samples_split': 2, 'splitter': 'random'}\n",
      "Best score is:  1.0\n"
     ]
    }
   ],
   "source": [
    "print(\"Best params are: \" , tree_CV.best_params_)\n",
    "print(\"Best score is: \" , tree_CV.best_score_)"
   ]
  },
  {
   "cell_type": "code",
   "execution_count": 188,
   "id": "554564d6-bbb3-436c-85e6-3c1b0de0ca45",
   "metadata": {},
   "outputs": [
    {
     "data": {
      "text/plain": [
       "1.0"
      ]
     },
     "execution_count": 188,
     "metadata": {},
     "output_type": "execute_result"
    }
   ],
   "source": [
    "tree_CV.score(X_test,y_test)"
   ]
  },
  {
   "cell_type": "code",
   "execution_count": 189,
   "id": "b4970c20-d12e-4d00-915e-666bf80cdb18",
   "metadata": {},
   "outputs": [],
   "source": [
    "accuracy.append(tree_CV.score(X_test,y_test))\n",
    "methods.append('Decision Tree')"
   ]
  },
  {
   "cell_type": "code",
   "execution_count": 190,
   "id": "69c63146-10e6-4902-9dce-5d56c0845841",
   "metadata": {},
   "outputs": [
    {
     "data": {
      "text/plain": [
       "[0.8888888888888888, 0.9259259259259259, 1.0]"
      ]
     },
     "execution_count": 190,
     "metadata": {},
     "output_type": "execute_result"
    }
   ],
   "source": [
    "accuracy"
   ]
  },
  {
   "cell_type": "code",
   "execution_count": 191,
   "id": "f4a7e41d-a3cb-422e-952d-3550b8b78e31",
   "metadata": {},
   "outputs": [
    {
     "data": {
      "text/plain": [
       "['Logistic Regression', 'Support Vector Machine', 'Decision Tree']"
      ]
     },
     "execution_count": 191,
     "metadata": {},
     "output_type": "execute_result"
    }
   ],
   "source": [
    "methods"
   ]
  },
  {
   "cell_type": "code",
   "execution_count": 192,
   "id": "bf0b6cfd-7271-44e1-9474-23960b3b67d4",
   "metadata": {},
   "outputs": [
    {
     "data": {
      "image/png": "[encoded data removed]",
      "text/plain": [
       "<Figure size 640x480 with 2 Axes>"
      ]
     },
     "metadata": {},
     "output_type": "display_data"
    }
   ],
   "source": [
    "y_hat = tree_CV.predict(X_test)\n",
    "plot_confusion_matrix(y_test,y_hat)"
   ]
  },
  {
   "cell_type": "code",
   "execution_count": 193,
   "id": "0dfca6e5-70ee-461f-b10c-d98e1ae779b3",
   "metadata": {},
   "outputs": [
    {
     "data": {
      "text/html": [
       "<style>#sk-container-id-15 {color: black;}#sk-container-id-15 pre{padding: 0;}#sk-container-id-15 div.sk-toggleable {background-color: white;}#sk-container-id-15 label.sk-toggleable__label {cursor: pointer;display: block;width: 100%;margin-bottom: 0;padding: 0.3em;box-sizing: border-box;text-align: center;}#sk-container-id-15 label.sk-toggleable__label-arrow:before {content: \"▸\";float: left;margin-right: 0.25em;color: #696969;}#sk-container-id-15 label.sk-toggleable__label-arrow:hover:before {color: black;}#sk-container-id-15 div.sk-estimator:hover label.sk-toggleable__label-arrow:before {color: black;}#sk-container-id-15 div.sk-toggleable__content {max-height: 0;max-width: 0;overflow: hidden;text-align: left;background-color: #f0f8ff;}#sk-container-id-15 div.sk-toggleable__content pre {margin: 0.2em;color: black;border-radius: 0.25em;background-color: #f0f8ff;}#sk-container-id-15 input.sk-toggleable__control:checked~div.sk-toggleable__content {max-height: 200px;max-width: 100%;overflow: auto;}#sk-container-id-15 input.sk-toggleable__control:checked~label.sk-toggleable__label-arrow:before {content: \"▾\";}#sk-container-id-15 div.sk-estimator input.sk-toggleable__control:checked~label.sk-toggleable__label {background-color: #d4ebff;}#sk-container-id-15 div.sk-label input.sk-toggleable__control:checked~label.sk-toggleable__label {background-color: #d4ebff;}#sk-container-id-15 input.sk-hidden--visually {border: 0;clip: rect(1px 1px 1px 1px);clip: rect(1px, 1px, 1px, 1px);height: 1px;margin: -1px;overflow: hidden;padding: 0;position: absolute;width: 1px;}#sk-container-id-15 div.sk-estimator {font-family: monospace;background-color: #f0f8ff;border: 1px dotted black;border-radius: 0.25em;box-sizing: border-box;margin-bottom: 0.5em;}#sk-container-id-15 div.sk-estimator:hover {background-color: #d4ebff;}#sk-container-id-15 div.sk-parallel-item::after {content: \"\";width: 100%;border-bottom: 1px solid gray;flex-grow: 1;}#sk-container-id-15 div.sk-label:hover label.sk-toggleable__label {background-color: #d4ebff;}#sk-container-id-15 div.sk-serial::before {content: \"\";position: absolute;border-left: 1px solid gray;box-sizing: border-box;top: 0;bottom: 0;left: 50%;z-index: 0;}#sk-container-id-15 div.sk-serial {display: flex;flex-direction: column;align-items: center;background-color: white;padding-right: 0.2em;padding-left: 0.2em;position: relative;}#sk-container-id-15 div.sk-item {position: relative;z-index: 1;}#sk-container-id-15 div.sk-parallel {display: flex;align-items: stretch;justify-content: center;background-color: white;position: relative;}#sk-container-id-15 div.sk-item::before, #sk-container-id-15 div.sk-parallel-item::before {content: \"\";position: absolute;border-left: 1px solid gray;box-sizing: border-box;top: 0;bottom: 0;left: 50%;z-index: -1;}#sk-container-id-15 div.sk-parallel-item {display: flex;flex-direction: column;z-index: 1;position: relative;background-color: white;}#sk-container-id-15 div.sk-parallel-item:first-child::after {align-self: flex-end;width: 50%;}#sk-container-id-15 div.sk-parallel-item:last-child::after {align-self: flex-start;width: 50%;}#sk-container-id-15 div.sk-parallel-item:only-child::after {width: 0;}#sk-container-id-15 div.sk-dashed-wrapped {border: 1px dashed gray;margin: 0 0.4em 0.5em 0.4em;box-sizing: border-box;padding-bottom: 0.4em;background-color: white;}#sk-container-id-15 div.sk-label label {font-family: monospace;font-weight: bold;display: inline-block;line-height: 1.2em;}#sk-container-id-15 div.sk-label-container {text-align: center;}#sk-container-id-15 div.sk-container {/* jupyter's `normalize.less` sets `[hidden] { display: none; }` but bootstrap.min.css set `[hidden] { display: none !important; }` so we also need the `!important` here to be able to override the default hidden behavior on the sphinx rendered scikit-learn.org. See: https://github.com/scikit-learn/scikit-learn/issues/21755 */display: inline-block !important;position: relative;}#sk-container-id-15 div.sk-text-repr-fallback {display: none;}</style><div id=\"sk-container-id-15\" class=\"sk-top-container\"><div class=\"sk-text-repr-fallback\"><pre>GridSearchCV(cv=10, estimator=KNeighborsClassifier(),\n",
       "             param_grid={&#x27;algorithm&#x27;: [&#x27;auto&#x27;, &#x27;ball_tree&#x27;, &#x27;kd_tree&#x27;, &#x27;brute&#x27;],\n",
       "                         &#x27;n_neighbors&#x27;: [1, 2, 3, 4, 5, 6, 7, 8, 9, 10],\n",
       "                         &#x27;p&#x27;: [1, 2]})</pre><b>In a Jupyter environment, please rerun this cell to show the HTML representation or trust the notebook. <br />On GitHub, the HTML representation is unable to render, please try loading this page with nbviewer.org.</b></div><div class=\"sk-container\" hidden><div class=\"sk-item sk-dashed-wrapped\"><div class=\"sk-label-container\"><div class=\"sk-label sk-toggleable\"><input class=\"sk-toggleable__control sk-hidden--visually\" id=\"sk-estimator-id-43\" type=\"checkbox\" ><label for=\"sk-estimator-id-43\" class=\"sk-toggleable__label sk-toggleable__label-arrow\">GridSearchCV</label><div class=\"sk-toggleable__content\"><pre>GridSearchCV(cv=10, estimator=KNeighborsClassifier(),\n",
       "             param_grid={&#x27;algorithm&#x27;: [&#x27;auto&#x27;, &#x27;ball_tree&#x27;, &#x27;kd_tree&#x27;, &#x27;brute&#x27;],\n",
       "                         &#x27;n_neighbors&#x27;: [1, 2, 3, 4, 5, 6, 7, 8, 9, 10],\n",
       "                         &#x27;p&#x27;: [1, 2]})</pre></div></div></div><div class=\"sk-parallel\"><div class=\"sk-parallel-item\"><div class=\"sk-item\"><div class=\"sk-label-container\"><div class=\"sk-label sk-toggleable\"><input class=\"sk-toggleable__control sk-hidden--visually\" id=\"sk-estimator-id-44\" type=\"checkbox\" ><label for=\"sk-estimator-id-44\" class=\"sk-toggleable__label sk-toggleable__label-arrow\">estimator: KNeighborsClassifier</label><div class=\"sk-toggleable__content\"><pre>KNeighborsClassifier()</pre></div></div></div><div class=\"sk-serial\"><div class=\"sk-item\"><div class=\"sk-estimator sk-toggleable\"><input class=\"sk-toggleable__control sk-hidden--visually\" id=\"sk-estimator-id-45\" type=\"checkbox\" ><label for=\"sk-estimator-id-45\" class=\"sk-toggleable__label sk-toggleable__label-arrow\">KNeighborsClassifier</label><div class=\"sk-toggleable__content\"><pre>KNeighborsClassifier()</pre></div></div></div></div></div></div></div></div></div></div>"
      ],
      "text/plain": [
       "GridSearchCV(cv=10, estimator=KNeighborsClassifier(),\n",
       "             param_grid={'algorithm': ['auto', 'ball_tree', 'kd_tree', 'brute'],\n",
       "                         'n_neighbors': [1, 2, 3, 4, 5, 6, 7, 8, 9, 10],\n",
       "                         'p': [1, 2]})"
      ]
     },
     "execution_count": 193,
     "metadata": {},
     "output_type": "execute_result"
    }
   ],
   "source": [
    "knn = KNeighborsClassifier()\n",
    "params = {'n_neighbors':[1,2,3,4,5,6,7,8,9,10],'algorithm':['auto','ball_tree','kd_tree','brute'],'p':[1,2]}\n",
    "knn_CV=GridSearchCV(knn,params,cv=10)\n",
    "knn_CV.fit(X_train,y_train)"
   ]
  },
  {
   "cell_type": "code",
   "execution_count": 194,
   "id": "8068a6f6-d98a-4bd4-a38f-b9f13d5aa088",
   "metadata": {},
   "outputs": [
    {
     "name": "stdout",
     "output_type": "stream",
     "text": [
      "Best params are:  {'algorithm': 'auto', 'n_neighbors': 4, 'p': 1}\n",
      "Best score is:  0.8928571428571429\n"
     ]
    }
   ],
   "source": [
    "print(\"Best params are: \" , knn_CV.best_params_)\n",
    "print(\"Best score is: \" , knn_CV.best_score_)"
   ]
  },
  {
   "cell_type": "code",
   "execution_count": 195,
   "id": "9a0986d6-2e9d-4504-8b13-0d7d8152cf7b",
   "metadata": {},
   "outputs": [
    {
     "data": {
      "text/plain": [
       "0.8888888888888888"
      ]
     },
     "execution_count": 195,
     "metadata": {},
     "output_type": "execute_result"
    }
   ],
   "source": [
    "knn_CV.score(X_test,y_test)"
   ]
  },
  {
   "cell_type": "code",
   "execution_count": 196,
   "id": "2c5a5296-8ccb-4ffa-a629-130c4cef0637",
   "metadata": {},
   "outputs": [],
   "source": [
    "accuracy.append(knn_CV.score(X_test,y_test))\n",
    "methods.append('K-Nearest Neighbors')"
   ]
  },
  {
   "cell_type": "code",
   "execution_count": 197,
   "id": "599b6867-298e-4872-ae25-db1467a7a093",
   "metadata": {},
   "outputs": [
    {
     "data": {
      "text/plain": [
       "[0.8888888888888888, 0.9259259259259259, 1.0, 0.8888888888888888]"
      ]
     },
     "execution_count": 197,
     "metadata": {},
     "output_type": "execute_result"
    }
   ],
   "source": [
    "accuracy"
   ]
  },
  {
   "cell_type": "code",
   "execution_count": 198,
   "id": "73fe8f7a-17c5-46c3-bfa7-c3d10706d637",
   "metadata": {},
   "outputs": [
    {
     "data": {
      "text/plain": [
       "['Logistic Regression',\n",
       " 'Support Vector Machine',\n",
       " 'Decision Tree',\n",
       " 'K-Nearest Neighbors']"
      ]
     },
     "execution_count": 198,
     "metadata": {},
     "output_type": "execute_result"
    }
   ],
   "source": [
    "methods"
   ]
  },
  {
   "cell_type": "code",
   "execution_count": 199,
   "id": "5bf30334-bf31-4afc-9783-77f7cebc3799",
   "metadata": {},
   "outputs": [
    {
     "data": {
      "image/png": "[encoded data removed]",
      "text/plain": [
       "<Figure size 640x480 with 2 Axes>"
      ]
     },
     "metadata": {},
     "output_type": "display_data"
    }
   ],
   "source": [
    "y_hat = knn_CV.predict(X_test)\n",
    "plot_confusion_matrix(y_test,y_hat)"
   ]
  },
  {
   "cell_type": "code",
   "execution_count": 219,
   "id": "895e16da-65de-447c-ae31-b1f02018c7c8",
   "metadata": {},
   "outputs": [
    {
     "data": {
      "text/plain": [
       "<Figure size 1000x500 with 0 Axes>"
      ]
     },
     "metadata": {},
     "output_type": "display_data"
    }
   ],
   "source": [
    "fig = plt.figure(figsize=(10,5))"
   ]
  },
  {
   "cell_type": "code",
   "execution_count": 220,
   "id": "f4f4ed56-5878-488f-b681-1cbb4583e2ad",
   "metadata": {},
   "outputs": [
    {
     "data": {
      "image/png": "[encoded data removed]",
      "text/plain": [
       "<Figure size 640x480 with 1 Axes>"
      ]
     },
     "metadata": {},
     "output_type": "display_data"
    }
   ],
   "source": [
    "plt.bar(methods,accuracy,color='maroon',width=0.3)\n",
    "plt.xlabel('Methods')\n",
    "plt.ylabel('Accuracy')\n",
    "plt.title('Comparison of methods accuracies')\n",
    "plt.show()"
   ]
  },
  {
   "cell_type": "code",
   "execution_count": 221,
   "id": "c0ccb5bd-3ec6-4d58-9115-171d4347253f",
   "metadata": {},
   "outputs": [],
   "source": [
    "from sklearn.metrics import RocCurveDisplay"
   ]
  },
  {
   "cell_type": "code",
   "execution_count": 225,
   "id": "5e4d9159-33df-4db4-9b1a-26820537eae4",
   "metadata": {},
   "outputs": [
    {
     "data": {
      "text/plain": [
       "Text(0.5, 1.0, 'ROC for KNN Method')"
      ]
     },
     "execution_count": 225,
     "metadata": {},
     "output_type": "execute_result"
    },
    {
     "data": {
      "image/png": "[encoded data removed]",
      "text/plain": [
       "<Figure size 640x480 with 1 Axes>"
      ]
     },
     "metadata": {},
     "output_type": "display_data"
    }
   ],
   "source": [
    "RocCurveDisplay.from_estimator(knn_CV,X_test,y_test)\n",
    "plt.plot([0,1],[0,1])\n",
    "plt.title('ROC for KNN Method')"
   ]
  },
  {
   "cell_type": "code",
   "execution_count": 227,
   "id": "854b5786-a549-4db5-9469-51c3d2a740d7",
   "metadata": {},
   "outputs": [
    {
     "data": {
      "text/plain": [
       "<Axes: xlabel='Class', ylabel='count'>"
      ]
     },
     "execution_count": 227,
     "metadata": {},
     "output_type": "execute_result"
    },
    {
     "data": {
      "image/png": "[encoded data removed]",
      "text/plain": [
       "<Figure size 640x480 with 1 Axes>"
      ]
     },
     "metadata": {},
     "output_type": "display_data"
    }
   ],
   "source": [
    "sns.countplot(x='Class',data=df)"
   ]
  },
  {
   "cell_type": "code",
   "execution_count": null,
   "id": "f601c3fd-1ccf-4d4f-abdb-913b3045a1ff",
   "metadata": {},
   "outputs": [],
   "source": []
  }
 ],
 "metadata": {
  "kernelspec": {
   "display_name": "Python 3 (ipykernel)",
   "language": "python",
   "name": "python3"
  },
  "language_info": {
   "codemirror_mode": {
    "name": "ipython",
    "version": 3
   },
   "file_extension": ".py",
   "mimetype": "text/x-python",
   "name": "python",
   "nbconvert_exporter": "python",
   "pygments_lexer": "ipython3",
   "version": "3.11.6"
  }
 },
 "nbformat": 4,
 "nbformat_minor": 5
}
